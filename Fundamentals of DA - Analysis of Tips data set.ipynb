{
 "cells": [
  {
   "cell_type": "markdown",
   "metadata": {},
   "source": [
    "# Fundamentals of Data Analysis\n",
    "\n",
    "# Assessment project 2019\n",
    "\n",
    "# Doris Zdravkovic\n",
    "\n",
    "\n",
    "\n",
    "\n",
    "## Analysis of \"Tips\" dataset\n",
    "\n"
   ]
  },
  {
   "cell_type": "markdown",
   "metadata": {},
   "source": [
    "## Introduction"
   ]
  },
  {
   "cell_type": "markdown",
   "metadata": {},
   "source": [
    "## \"Tips\" dataset"
   ]
  },
  {
   "cell_type": "markdown",
   "metadata": {},
   "source": [
    "In order to find out what factors affect tipping behaviour, Bryan and Smith in Practical Data Analysis: Case\n",
    "Studies in Business Statistics (1995), conducted analysis of food server's tips in one restaurant. Dataset consists of 244 cases which were recorded by a food server during an interval of two and half months in early 1990. The restaurant, located in a suburban shopping mall, was part of a national chain and served a varied menu. In accordance with local law the restaurant offered seating in a non-smoking section for those who requested it. Each record includes a day and time, and taken together they show the server’s work schedule. There are 7 variables used in a dataset. \n",
    "\n",
    "- Firstly, the price of total bill which shows the cost of the meal in US dollars, including tax.\n",
    "\n",
    "- Secondly, tip given to the waiter, also in US dollars. \n",
    "\n",
    "- Thirdly, the waiter recorded the sex of customers. The waiter recorded only the sex of customer who paid for the bill (0 = male, 1 = female)\n",
    "\n",
    "- Furthermore, it was recorded if there were any smokers in party (0 = Yes, 1 = No)\n",
    "\n",
    "- Next recorded variable was day of the visit. The waiter recorded tips only taken from Thursday to Sunday as that was the peak of the week in the restaurant (3 = Thur, 4 = Fri, 5 = Sat, 6 = Sun)\n",
    "\n",
    "- Moreover, it was very important to document time of the day the customers left the restaurant (0 = Day, 1 = Night). There were only two variables, day and night. \n",
    "\n",
    "- Finally, what was also crucial to take into account was the size of the party. \n",
    "\n"
   ]
  },
  {
   "cell_type": "markdown",
   "metadata": {},
   "source": []
  }
 ],
 "metadata": {
  "kernelspec": {
   "display_name": "Python 3",
   "language": "python",
   "name": "python3"
  },
  "language_info": {
   "codemirror_mode": {
    "name": "ipython",
    "version": 3
   },
   "file_extension": ".py",
   "mimetype": "text/x-python",
   "name": "python",
   "nbconvert_exporter": "python",
   "pygments_lexer": "ipython3",
   "version": "3.7.3"
  }
 },
 "nbformat": 4,
 "nbformat_minor": 2
}
